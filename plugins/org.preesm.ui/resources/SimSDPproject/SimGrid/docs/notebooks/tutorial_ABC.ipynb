{
 "cells": [
  {
   "attachments": {},
   "cell_type": "markdown",
   "id": "cf19b21f",
   "metadata": {},
   "source": [
    "# SimSDP package tutorial\n",
    "\n",
    "The SimSDP python package provides tools to simulate a dataflow of PREESM tasks using the SimGrid framework. \n",
    "\n",
    "This notebook aims to provide a rapid overview on how to use the package through a basic example.\n",
    "\n",
    "Let's begin by importing the package."
   ]
  },
  {
   "cell_type": "code",
   "execution_count": null,
   "id": "48daf4b2",
   "metadata": {},
   "outputs": [],
   "source": [
    "import simsdp.core as sdpcore"
   ]
  },
  {
   "attachments": {},
   "cell_type": "markdown",
   "id": "c2a6f5b1",
   "metadata": {},
   "source": [
    "The first step is to import the PREESM tasks. To do this you need a folder containing the pisdf graph with the tasks (`.pi` file) and the gantt file (`.xml` file) providing timing data for the tasks. "
   ]
  },
  {
   "cell_type": "code",
   "execution_count": null,
   "id": "8df8ce67",
   "metadata": {},
   "outputs": [],
   "source": [
    "tasks = sdpcore.tasks_from_preesm_folder_v5('../../tests/test_data/ABC - 8n - round0')\n",
    "tasks"
   ]
  },
  {
   "attachments": {},
   "cell_type": "markdown",
   "id": "f2bbacae",
   "metadata": {},
   "source": [
    "Entry point tasks require manual firing to start as they don't have parents than can trigger them. We found entry point tasks and force several firings."
   ]
  },
  {
   "cell_type": "code",
   "execution_count": null,
   "id": "51a97367",
   "metadata": {},
   "outputs": [],
   "source": [
    "entry_points = sdpcore.get_entry_points(tasks)\n",
    "for entry_point in entry_points:\n",
    "    entry_point.queued = 1000\n",
    "entry_points"
   ]
  },
  {
   "attachments": {},
   "cell_type": "markdown",
   "id": "7c6a631e",
   "metadata": {},
   "source": [
    "As we do not have a platform to run our tasks on, we create a star platform with all hosts of tasks linked to a unique router with 1GBps links with 1ms latency."
   ]
  },
  {
   "cell_type": "code",
   "execution_count": null,
   "id": "6f5adc30",
   "metadata": {},
   "outputs": [],
   "source": [
    "hosts = sdpcore.get_all_host(tasks)\n",
    "platform = sdpcore.generate_star_platform(\n",
    "    hosts,\n",
    "    bw='1MBps',\n",
    "    latency='1ms')\n",
    "platform"
   ]
  },
  {
   "attachments": {},
   "cell_type": "markdown",
   "id": "39513f6e",
   "metadata": {},
   "source": [
    "Then we can run the simulation of the tasks on the platform. The `run` function generates c++ code, compile and execute it. "
   ]
  },
  {
   "cell_type": "code",
   "execution_count": null,
   "id": "46eb8ee4",
   "metadata": {
    "scrolled": true
   },
   "outputs": [],
   "source": [
    "out,dic = sdpcore.run(tasks, platform, verbose=True, show_finished=False, capture_output=True, clean=False)"
   ]
  },
  {
   "cell_type": "code",
   "execution_count": null,
   "id": "d0cc7c25",
   "metadata": {},
   "outputs": [],
   "source": [
    "dic"
   ]
  },
  {
   "cell_type": "code",
   "execution_count": null,
   "id": "884dba48",
   "metadata": {},
   "outputs": [],
   "source": []
  }
 ],
 "metadata": {
  "kernelspec": {
   "display_name": "Python 3 (ipykernel)",
   "language": "python",
   "name": "python3"
  },
  "language_info": {
   "codemirror_mode": {
    "name": "ipython",
    "version": 3
   },
   "file_extension": ".py",
   "mimetype": "text/x-python",
   "name": "python",
   "nbconvert_exporter": "python",
   "pygments_lexer": "ipython3",
   "version": "3.11.2"
  }
 },
 "nbformat": 4,
 "nbformat_minor": 5
}
